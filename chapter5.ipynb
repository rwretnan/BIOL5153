{
 "cells": [
  {
   "cell_type": "code",
   "execution_count": 1,
   "metadata": {},
   "outputs": [
    {
     "name": "stdout",
     "output_type": "stream",
     "text": [
      "AT content is0.6851851851851852\n"
     ]
    }
   ],
   "source": [
    "my_dna = \"ACTGATCGATTACGTATAGTATTTGCTATCATACATATATATCGATGCGTTCAT\"\n",
    "length = len(my_dna)\n",
    "a_count = my_dna.count('A')\n",
    "t_count = my_dna.count('T')\n",
    "at_content = (a_count + t_count) / length \n",
    "print(\"AT content is\" + str(at_content))"
   ]
  },
  {
   "cell_type": "code",
   "execution_count": 3,
   "metadata": {},
   "outputs": [],
   "source": [
    "def get_at_content(dna):\n",
    "    length = len(dna)\n",
    "    a_count = dna.count('A')\n",
    "    t_count = dna.count('T')\n",
    "    at_content = (a_count + t_count) / length\n",
    "    return at_content"
   ]
  },
  {
   "cell_type": "code",
   "execution_count": 4,
   "metadata": {},
   "outputs": [
    {
     "data": {
      "text/plain": [
       "0.5"
      ]
     },
     "execution_count": 4,
     "metadata": {},
     "output_type": "execute_result"
    }
   ],
   "source": [
    "get_at_content(\"ATGACTGGACCA\")"
   ]
  },
  {
   "cell_type": "code",
   "execution_count": 5,
   "metadata": {},
   "outputs": [
    {
     "name": "stdout",
     "output_type": "stream",
     "text": [
      "AT content is 0.5\n"
     ]
    }
   ],
   "source": [
    "at_content = get_at_content(\"ATGACTGGACCA\")\n",
    "print(\"AT content is \" + str(get_at_content(\"ATGACTGGACCA\")))"
   ]
  },
  {
   "cell_type": "code",
   "execution_count": 6,
   "metadata": {},
   "outputs": [
    {
     "name": "stdout",
     "output_type": "stream",
     "text": [
      "16\n"
     ]
    }
   ],
   "source": [
    "def get_at_content(dna):\n",
    "    length = len(dna)\n",
    "    a_count = dna.count('A')\n",
    "    t_count = dna.count('T')\n",
    "    at_content = (a_content + t_count) / length\n",
    "    return at_content\n",
    "\n",
    "print(a_count)"
   ]
  },
  {
   "cell_type": "code",
   "execution_count": 7,
   "metadata": {},
   "outputs": [
    {
     "name": "stdout",
     "output_type": "stream",
     "text": [
      "0.45\n",
      "0.5294117647058824\n",
      "0.0\n"
     ]
    }
   ],
   "source": [
    "def get_at_content(dna): \n",
    "    length = len(dna)\n",
    "    a_count = dna.count('A')\n",
    "    t_count = dna.count('T')\n",
    "    at_content = (a_count + t_count) / length\n",
    "    return at_content\n",
    "\n",
    "my_at_content = get_at_content(\"ATGCGCGATCGATCGAATCG\")\n",
    "print(str(my_at_content))\n",
    "print(get_at_content(\"ATGCATGCAACTGTAGC\"))\n",
    "print(get_at_content(\"aactgtagctagctagcagcgta\"))"
   ]
  },
  {
   "cell_type": "code",
   "execution_count": 8,
   "metadata": {},
   "outputs": [
    {
     "name": "stdout",
     "output_type": "stream",
     "text": [
      "0.45\n",
      "0.53\n",
      "0.52\n"
     ]
    }
   ],
   "source": [
    "def get_at_content(dna):\n",
    "    length = len(dna)\n",
    "    a_count = dna.upper().count('A')\n",
    "    t_count = dna.upper().count('T')\n",
    "    at_content = (a_count + t_count) / length\n",
    "    return round(at_content, 2)\n",
    "\n",
    "my_at_content = get_at_content(\"ATGCGCGATCGATCGAATCG\")\n",
    "print(str(my_at_content))\n",
    "print(get_at_content(\"ATGCATGCAACTGTAGC\"))\n",
    "print(get_at_content(\"aactgtagctagctagcagcgta\"))"
   ]
  },
  {
   "cell_type": "code",
   "execution_count": 10,
   "metadata": {},
   "outputs": [
    {
     "name": "stdout",
     "output_type": "stream",
     "text": [
      "0.5\n",
      "0.53\n",
      "0.529\n"
     ]
    }
   ],
   "source": [
    "def get_at_content(dna, sig_figs):\n",
    "    length = len(dna)\n",
    "    a_count = dna.upper().count('A')\n",
    "    t_count = dna.upper().count('T')\n",
    "    at_content = (a_count + t_count) / length\n",
    "    return round(at_content, sig_figs)\n",
    "\n",
    "test_dna = \"ATGCATGCAACTGTAGC\"\n",
    "print(get_at_content(test_dna, 1))\n",
    "print(get_at_content(test_dna, 2))\n",
    "print(get_at_content(test_dna, 3))"
   ]
  },
  {
   "cell_type": "code",
   "execution_count": 11,
   "metadata": {},
   "outputs": [],
   "source": [
    "def get_a_number():\n",
    "    return 42"
   ]
  },
  {
   "cell_type": "code",
   "execution_count": 12,
   "metadata": {},
   "outputs": [],
   "source": [
    "def get_at_content():\n",
    "    dna = \"ACTGATGCTAGCTA\"\n",
    "    length = len(dna)\n",
    "    a_count = dna.upper().count('A')\n",
    "    t_count = dna.upper().count('T')\n",
    "    at_content = (a_count + t_count) / length\n",
    "    return round(at_content, 2)"
   ]
  },
  {
   "cell_type": "code",
   "execution_count": 13,
   "metadata": {},
   "outputs": [
    {
     "name": "stdout",
     "output_type": "stream",
     "text": [
      "0.5\n"
     ]
    }
   ],
   "source": [
    "def get_at_content():\n",
    "    length = len(dna)\n",
    "    a_count = dna.upper().count('A')\n",
    "    t_count = dna.upper().count('T')\n",
    "    at_content = (a_count + t_count) / length\n",
    "    return round(at_content, 2)\n",
    "\n",
    "dna = \"ACTGATCGATCG\"\n",
    "print(get_at_content())"
   ]
  },
  {
   "cell_type": "code",
   "execution_count": 14,
   "metadata": {},
   "outputs": [],
   "source": [
    "def print_at_content(dna):\n",
    "    length = len(dna)\n",
    "    a_count = dna.upper().count('A')\n",
    "    t_count = dna.upper().count('T')\n",
    "    at_content = (a_count + t_count) / length\n",
    "    print(str(round(at_content, 2)))"
   ]
  },
  {
   "cell_type": "code",
   "execution_count": 23,
   "metadata": {},
   "outputs": [
    {
     "ename": "SyntaxError",
     "evalue": "positional argument follows keyword argument (<ipython-input-23-f815fb343c1d>, line 5)",
     "output_type": "error",
     "traceback": [
      "\u001b[0;36m  File \u001b[0;32m\"<ipython-input-23-f815fb343c1d>\"\u001b[0;36m, line \u001b[0;32m5\u001b[0m\n\u001b[0;31m    get_at_content(dna=\"ATCGTGACTCG\", 2)\u001b[0m\n\u001b[0m                                     ^\u001b[0m\n\u001b[0;31mSyntaxError\u001b[0m\u001b[0;31m:\u001b[0m positional argument follows keyword argument\n"
     ]
    }
   ],
   "source": [
    "get_at_content(\"ACTGATCGATCG\", 2)\n",
    "get_at_content(dna= \"ATCGTGACTCG\", sig_figs=2)\n",
    "get_at_content(sig_figs=2, dna=\"ATCGTGACTCG\")\n",
    "get_at_content(\"ATCGTGACTCG\", sig_figs=2)\n",
    "get_at_content(dna=\"ATCGTGACTCG\", 2)"
   ]
  },
  {
   "cell_type": "code",
   "execution_count": 24,
   "metadata": {},
   "outputs": [],
   "source": [
    "def get_at_content(dna, sig_figs=2):\n",
    "    length = len(dna)\n",
    "    a_count = dna.upper().count('A')\n",
    "    t_count = dna.upper().count('T')\n",
    "    at_content = (a_count + t_count) / length\n",
    "    return round(at_content, sig_figs)"
   ]
  },
  {
   "cell_type": "code",
   "execution_count": 25,
   "metadata": {},
   "outputs": [
    {
     "data": {
      "text/plain": [
       "0.4545"
      ]
     },
     "execution_count": 25,
     "metadata": {},
     "output_type": "execute_result"
    }
   ],
   "source": [
    "get_at_content(\"ATCGTGACTCG\") \n",
    "get_at_content(\"ATCGTGACTCG\", 3)\n",
    "get_at_content(\"ATCGTGACTCG\", sig_figs=4)"
   ]
  },
  {
   "cell_type": "code",
   "execution_count": 26,
   "metadata": {},
   "outputs": [],
   "source": [
    "assert get_at_content(\"ATGC\") == 0.5"
   ]
  },
  {
   "cell_type": "code",
   "execution_count": 27,
   "metadata": {},
   "outputs": [
    {
     "ename": "AssertionError",
     "evalue": "",
     "output_type": "error",
     "traceback": [
      "\u001b[0;31m---------------------------------------------------------------------------\u001b[0m",
      "\u001b[0;31mAssertionError\u001b[0m                            Traceback (most recent call last)",
      "\u001b[0;32m<ipython-input-27-2887bcab6a6e>\u001b[0m in \u001b[0;36m<module>\u001b[0;34m\u001b[0m\n\u001b[0;32m----> 1\u001b[0;31m \u001b[0;32massert\u001b[0m \u001b[0mget_at_content\u001b[0m\u001b[0;34m(\u001b[0m\u001b[0;34m\"ATGCNNNNNNNNNN\"\u001b[0m\u001b[0;34m)\u001b[0m \u001b[0;34m==\u001b[0m \u001b[0;36m0.5\u001b[0m\u001b[0;34m\u001b[0m\u001b[0;34m\u001b[0m\u001b[0m\n\u001b[0m",
      "\u001b[0;31mAssertionError\u001b[0m: "
     ]
    }
   ],
   "source": [
    "assert get_at_content(\"ATGCNNNNNNNNNN\") == 0.5"
   ]
  },
  {
   "cell_type": "code",
   "execution_count": 28,
   "metadata": {},
   "outputs": [],
   "source": [
    "def get_at_content(dna, sig_figs=2):\n",
    "    dna = dna.replace('N', '')\n",
    "    length = len(dna)\n",
    "    a_count = dna.upper().count('A')\n",
    "    t_count = dna.upper().count('T')\n",
    "    at_content = (a_count + t_count) / length \n",
    "    return round(at_content, sig_figs)"
   ]
  },
  {
   "cell_type": "code",
   "execution_count": 30,
   "metadata": {},
   "outputs": [],
   "source": [
    "assert get_at_content(\"A\") == 1\n",
    "assert get_at_content(\"G\") == 0\n",
    "assert get_at_content(\"ATGC\") == 0.5 \n",
    "assert get_at_content(\"AGG\") == 0.33 \n",
    "assert get_at_content(\"AGG\", 1) == 0.3 \n",
    "assert get_at_content(\"AGG\", 5) == 0.33333"
   ]
  },
  {
   "cell_type": "code",
   "execution_count": 35,
   "metadata": {},
   "outputs": [
    {
     "name": "stdout",
     "output_type": "stream",
     "text": [
      "10.0\n"
     ]
    },
    {
     "ename": "NameError",
     "evalue": "name 'my_function' is not defined",
     "output_type": "error",
     "traceback": [
      "\u001b[0;31m---------------------------------------------------------------------------\u001b[0m",
      "\u001b[0;31mNameError\u001b[0m                                 Traceback (most recent call last)",
      "\u001b[0;32m<ipython-input-35-c8692a99e5d6>\u001b[0m in \u001b[0;36m<module>\u001b[0;34m\u001b[0m\n\u001b[1;32m     17\u001b[0m \u001b[0;34m\u001b[0m\u001b[0m\n\u001b[1;32m     18\u001b[0m \u001b[0;31m# test the function with assertions\u001b[0m\u001b[0;34m\u001b[0m\u001b[0;34m\u001b[0m\u001b[0;34m\u001b[0m\u001b[0m\n\u001b[0;32m---> 19\u001b[0;31m \u001b[0;32massert\u001b[0m \u001b[0mmy_function\u001b[0m\u001b[0;34m(\u001b[0m\u001b[0;34m\"MSRSLLLRFLLFLLLLPPLP\"\u001b[0m\u001b[0;34m,\u001b[0m \u001b[0;34m\"M\"\u001b[0m\u001b[0;34m)\u001b[0m \u001b[0;34m==\u001b[0m \u001b[0;36m5\u001b[0m\u001b[0;34m\u001b[0m\u001b[0;34m\u001b[0m\u001b[0m\n\u001b[0m\u001b[1;32m     20\u001b[0m \u001b[0;32massert\u001b[0m \u001b[0mmy_function\u001b[0m\u001b[0;34m(\u001b[0m\u001b[0;34m\"MSRSLLLRFLLFLLLLPPLP\"\u001b[0m\u001b[0;34m,\u001b[0m \u001b[0;34m\"r\"\u001b[0m\u001b[0;34m)\u001b[0m \u001b[0;34m==\u001b[0m \u001b[0;36m10\u001b[0m\u001b[0;34m\u001b[0m\u001b[0;34m\u001b[0m\u001b[0m\n\u001b[1;32m     21\u001b[0m \u001b[0;32massert\u001b[0m \u001b[0mmy_function\u001b[0m\u001b[0;34m(\u001b[0m\u001b[0;34m\"MSRSLLLRFLLFLLLLPPLP\"\u001b[0m\u001b[0;34m,\u001b[0m \u001b[0;34m\"L\"\u001b[0m\u001b[0;34m)\u001b[0m \u001b[0;34m==\u001b[0m \u001b[0;36m50\u001b[0m\u001b[0;34m\u001b[0m\u001b[0;34m\u001b[0m\u001b[0m\n",
      "\u001b[0;31mNameError\u001b[0m: name 'my_function' is not defined"
     ]
    }
   ],
   "source": [
    "# Exercises\n",
    "\n",
    "#Percentage of amino acid residues, part one\n",
    "\n",
    "protein = \"MSRSLLLRFLLFLLLLPPLP\"\n",
    "aa = \"R\"\n",
    "aa_count = protein.count(aa)\n",
    "protein_length = len(protein)\n",
    "percentage = aa_count * 100 / protein_length \n",
    "print(percentage)\n",
    "\n",
    "def get_aa_percentage(protein, aa):\n",
    "    aa_count = protein.count(aa)\n",
    "    protein_length = len(protein)\n",
    "    percentage = aa_count * 100 / protein_length\n",
    "    return percentage\n",
    "\n",
    "# test the function with assertions\n",
    "assert my_function(\"MSRSLLLRFLLFLLLLPPLP\", \"M\") == 5\n",
    "assert my_function(\"MSRSLLLRFLLFLLLLPPLP\", \"r\") == 10\n",
    "assert my_function(\"MSRSLLLRFLLFLLLLPPLP\", \"L\") == 50\n",
    "assert my_function(\"MSRSLLLRFLLFLLLLPPLP\", \"Y\") == 0"
   ]
  },
  {
   "cell_type": "code",
   "execution_count": 38,
   "metadata": {},
   "outputs": [],
   "source": [
    "def get_aa_percentage(protein, aa):\n",
    "    # convert both inputs to upper case \n",
    "    protein = protein.upper()\n",
    "    aa = aa.upper()\n",
    "    \n",
    "    aa_count = protein.count(aa)\n",
    "    protein_length = len(protein)\n",
    "    percentage = aa_count * 100 / protein_length\n",
    "    return percentage"
   ]
  },
  {
   "cell_type": "code",
   "execution_count": 40,
   "metadata": {},
   "outputs": [
    {
     "name": "stdout",
     "output_type": "stream",
     "text": [
      "counting number of M\n",
      "counting number of L\n",
      "counting number of F\n",
      "running total is 2\n",
      "final percentage is 10.0\n"
     ]
    }
   ],
   "source": [
    "# Exercises\n",
    "\n",
    "# Percentage of amino acid residues, part two\n",
    "\n",
    "protein = \"MSRSLLLRFLLFLLLLPPLP\"\n",
    "aa_list = ['M', 'L', 'F']\n",
    "\n",
    "# the total variable will hold the total number of matching residues \n",
    "total = 0\n",
    "for aa in aa_list:\n",
    "    print(\"counting number of \" + aa) \n",
    "    aa = aa.upper()\n",
    "    aa_count = protein.count(aa)\n",
    "    \n",
    "# add the number for this residue to the total count\n",
    "total = total + aa_count\n",
    "print(\"running total is \" + str(total))\n",
    "\n",
    "percentage = total * 100 / len(protein)\n",
    "print(\"final percentage is \" + str(percentage))"
   ]
  },
  {
   "cell_type": "code",
   "execution_count": 44,
   "metadata": {},
   "outputs": [
    {
     "ename": "SyntaxError",
     "evalue": "'return' outside function (<ipython-input-44-e68d2aecbdcc>, line 10)",
     "output_type": "error",
     "traceback": [
      "\u001b[0;36m  File \u001b[0;32m\"<ipython-input-44-e68d2aecbdcc>\"\u001b[0;36m, line \u001b[0;32m10\u001b[0m\n\u001b[0;31m    return percentage\u001b[0m\n\u001b[0m                     ^\u001b[0m\n\u001b[0;31mSyntaxError\u001b[0m\u001b[0;31m:\u001b[0m 'return' outside function\n"
     ]
    }
   ],
   "source": [
    "def get_aa_percentage(protein, aa_list):\n",
    "    protein = protein.upper()\n",
    "    protein_length = len(protein)\n",
    "    total = 0\n",
    "    for aa in aa_list:\n",
    "        aa = aa.upper()\n",
    "        aa_count = protein.count(aa)\n",
    "        total = total + aa_count\n",
    "percentage = total * 100 / protein_length\n",
    "return percentage"
   ]
  },
  {
   "cell_type": "code",
   "execution_count": 47,
   "metadata": {},
   "outputs": [
    {
     "ename": "SyntaxError",
     "evalue": "invalid syntax (<ipython-input-47-6173692050cf>, line 5)",
     "output_type": "error",
     "traceback": [
      "\u001b[0;36m  File \u001b[0;32m\"<ipython-input-47-6173692050cf>\"\u001b[0;36m, line \u001b[0;32m5\u001b[0m\n\u001b[0;31m    for aa in aa_list:\u001b[0m\n\u001b[0m      ^\u001b[0m\n\u001b[0;31mSyntaxError\u001b[0m\u001b[0;31m:\u001b[0m invalid syntax\n"
     ]
    }
   ],
   "source": [
    "def get_aa_percentage(protein, aa_list=['A','I','L','M','F','W','Y','V']):\n",
    "    protein = protein.upper()\n",
    "    protein_length = len(protein)\n",
    "    total = 0\\\n",
    "    for aa in aa_list:\n",
    "        aa = aa.upper()\n",
    "        aa_count = protein.count(aa)\n",
    "        total = total + aa_count\n",
    "percentage = total * 100 / protein_length\n",
    "return percentage"
   ]
  },
  {
   "cell_type": "code",
   "execution_count": null,
   "metadata": {},
   "outputs": [],
   "source": []
  }
 ],
 "metadata": {
  "kernelspec": {
   "display_name": "Python 3",
   "language": "python",
   "name": "python3"
  },
  "language_info": {
   "codemirror_mode": {
    "name": "ipython",
    "version": 3
   },
   "file_extension": ".py",
   "mimetype": "text/x-python",
   "name": "python",
   "nbconvert_exporter": "python",
   "pygments_lexer": "ipython3",
   "version": "3.7.4"
  }
 },
 "nbformat": 4,
 "nbformat_minor": 2
}
